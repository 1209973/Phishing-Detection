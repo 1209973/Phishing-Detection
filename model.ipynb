{
 "metadata": {
  "language_info": {
   "codemirror_mode": {
    "name": "ipython",
    "version": 3
   },
   "file_extension": ".py",
   "mimetype": "text/x-python",
   "name": "python",
   "nbconvert_exporter": "python",
   "pygments_lexer": "ipython3",
   "version": "3.8.3-final"
  },
  "orig_nbformat": 2,
  "kernelspec": {
   "name": "python3",
   "display_name": "Python 3"
  }
 },
 "nbformat": 4,
 "nbformat_minor": 2,
 "cells": [
  {
   "cell_type": "code",
   "execution_count": 2,
   "metadata": {},
   "outputs": [],
   "source": [
    "import tensorflow as tf\n",
    "import pandas as pd\n",
    "import io\n",
    "import numpy as np\n",
    "from sklearn.model_selection import train_test_split,StratifiedKFold,cross_val_score,RandomizedSearchCV\n",
    "from sklearn.preprocessing import LabelEncoder,StandardScaler\n",
    "from sklearn.pipeline import Pipeline\n",
    "from sklearn.ensemble.forest import RandomForestClassifier\n",
    "from sklearn.feature_selection import SelectFromModel\n",
    "from sklearn.metrics import classification_report, confusion_matrix"
   ]
  },
  {
   "cell_type": "code",
   "execution_count": 6,
   "metadata": {},
   "outputs": [
    {
     "output_type": "execute_result",
     "data": {
      "text/plain": "   phish_id                                                url  \\\n0   6685109  https://agrover.uz/.well-known/pki-validation/...   \n1   6685091             http://smart4talent.000webhostapp.com/   \n2   6685089             http://realmail0000.000webhostapp.com/   \n3   6685088                http://abieso112.000webhostapp.com/   \n4   6685081  http://g-mail-onlinesa-authenticate.000webhost...   \n\n                                    phish_detail_url  \\\n0  http://www.phishtank.com/phish_detail.php?phis...   \n1  http://www.phishtank.com/phish_detail.php?phis...   \n2  http://www.phishtank.com/phish_detail.php?phis...   \n3  http://www.phishtank.com/phish_detail.php?phis...   \n4  http://www.phishtank.com/phish_detail.php?phis...   \n\n             submission_time verified          verification_time online  \\\n0  2020-07-20T09:00:33+00:00      yes  2020-07-20T09:04:13+00:00    yes   \n1  2020-07-20T08:31:55+00:00      yes  2020-07-20T08:38:07+00:00    yes   \n2  2020-07-20T08:30:19+00:00      yes  2020-07-20T08:38:07+00:00    yes   \n3  2020-07-20T08:30:10+00:00      yes  2020-07-20T08:38:07+00:00    yes   \n4  2020-07-20T08:28:10+00:00      yes  2020-07-20T08:35:05+00:00    yes   \n\n   target  \n0   Other  \n1   Other  \n2  Google  \n3  Google  \n4  Google  ",
      "text/html": "<div>\n<style scoped>\n    .dataframe tbody tr th:only-of-type {\n        vertical-align: middle;\n    }\n\n    .dataframe tbody tr th {\n        vertical-align: top;\n    }\n\n    .dataframe thead th {\n        text-align: right;\n    }\n</style>\n<table border=\"1\" class=\"dataframe\">\n  <thead>\n    <tr style=\"text-align: right;\">\n      <th></th>\n      <th>phish_id</th>\n      <th>url</th>\n      <th>phish_detail_url</th>\n      <th>submission_time</th>\n      <th>verified</th>\n      <th>verification_time</th>\n      <th>online</th>\n      <th>target</th>\n    </tr>\n  </thead>\n  <tbody>\n    <tr>\n      <th>0</th>\n      <td>6685109</td>\n      <td>https://agrover.uz/.well-known/pki-validation/...</td>\n      <td>http://www.phishtank.com/phish_detail.php?phis...</td>\n      <td>2020-07-20T09:00:33+00:00</td>\n      <td>yes</td>\n      <td>2020-07-20T09:04:13+00:00</td>\n      <td>yes</td>\n      <td>Other</td>\n    </tr>\n    <tr>\n      <th>1</th>\n      <td>6685091</td>\n      <td>http://smart4talent.000webhostapp.com/</td>\n      <td>http://www.phishtank.com/phish_detail.php?phis...</td>\n      <td>2020-07-20T08:31:55+00:00</td>\n      <td>yes</td>\n      <td>2020-07-20T08:38:07+00:00</td>\n      <td>yes</td>\n      <td>Other</td>\n    </tr>\n    <tr>\n      <th>2</th>\n      <td>6685089</td>\n      <td>http://realmail0000.000webhostapp.com/</td>\n      <td>http://www.phishtank.com/phish_detail.php?phis...</td>\n      <td>2020-07-20T08:30:19+00:00</td>\n      <td>yes</td>\n      <td>2020-07-20T08:38:07+00:00</td>\n      <td>yes</td>\n      <td>Google</td>\n    </tr>\n    <tr>\n      <th>3</th>\n      <td>6685088</td>\n      <td>http://abieso112.000webhostapp.com/</td>\n      <td>http://www.phishtank.com/phish_detail.php?phis...</td>\n      <td>2020-07-20T08:30:10+00:00</td>\n      <td>yes</td>\n      <td>2020-07-20T08:38:07+00:00</td>\n      <td>yes</td>\n      <td>Google</td>\n    </tr>\n    <tr>\n      <th>4</th>\n      <td>6685081</td>\n      <td>http://g-mail-onlinesa-authenticate.000webhost...</td>\n      <td>http://www.phishtank.com/phish_detail.php?phis...</td>\n      <td>2020-07-20T08:28:10+00:00</td>\n      <td>yes</td>\n      <td>2020-07-20T08:35:05+00:00</td>\n      <td>yes</td>\n      <td>Google</td>\n    </tr>\n  </tbody>\n</table>\n</div>"
     },
     "metadata": {},
     "execution_count": 6
    }
   ],
   "source": [
    "phishing_dataset = pd.read_csv('Phishtank_dataset.csv')\n",
    "phishing_dataset.head()"
   ]
  },
  {
   "cell_type": "code",
   "execution_count": 51,
   "metadata": {},
   "outputs": [
    {
     "output_type": "execute_result",
     "data": {
      "text/plain": "   rank           url\n0     1    google.com\n1     2   youtube.com\n2     3     tmall.com\n3     4     baidu.com\n4     5  facebook.com",
      "text/html": "<div>\n<style scoped>\n    .dataframe tbody tr th:only-of-type {\n        vertical-align: middle;\n    }\n\n    .dataframe tbody tr th {\n        vertical-align: top;\n    }\n\n    .dataframe thead th {\n        text-align: right;\n    }\n</style>\n<table border=\"1\" class=\"dataframe\">\n  <thead>\n    <tr style=\"text-align: right;\">\n      <th></th>\n      <th>rank</th>\n      <th>url</th>\n    </tr>\n  </thead>\n  <tbody>\n    <tr>\n      <th>0</th>\n      <td>1</td>\n      <td>google.com</td>\n    </tr>\n    <tr>\n      <th>1</th>\n      <td>2</td>\n      <td>youtube.com</td>\n    </tr>\n    <tr>\n      <th>2</th>\n      <td>3</td>\n      <td>tmall.com</td>\n    </tr>\n    <tr>\n      <th>3</th>\n      <td>4</td>\n      <td>baidu.com</td>\n    </tr>\n    <tr>\n      <th>4</th>\n      <td>5</td>\n      <td>facebook.com</td>\n    </tr>\n  </tbody>\n</table>\n</div>"
     },
     "metadata": {},
     "execution_count": 51
    }
   ],
   "source": [
    "alexa_dataset = pd.read_csv('alexa1m_dataset.csv',names=['rank','url'])\n",
    "alexa_dataset.head()"
   ]
  },
  {
   "cell_type": "code",
   "execution_count": 46,
   "metadata": {},
   "outputs": [
    {
     "output_type": "execute_result",
     "data": {
      "text/plain": "                                                 url  phishing\n0  https://agrover.uz/.well-known/pki-validation/...         1\n1             http://smart4talent.000webhostapp.com/         1\n2             http://realmail0000.000webhostapp.com/         1\n3                http://abieso112.000webhostapp.com/         1\n4  http://g-mail-onlinesa-authenticate.000webhost...         1",
      "text/html": "<div>\n<style scoped>\n    .dataframe tbody tr th:only-of-type {\n        vertical-align: middle;\n    }\n\n    .dataframe tbody tr th {\n        vertical-align: top;\n    }\n\n    .dataframe thead th {\n        text-align: right;\n    }\n</style>\n<table border=\"1\" class=\"dataframe\">\n  <thead>\n    <tr style=\"text-align: right;\">\n      <th></th>\n      <th>url</th>\n      <th>phishing</th>\n    </tr>\n  </thead>\n  <tbody>\n    <tr>\n      <th>0</th>\n      <td>https://agrover.uz/.well-known/pki-validation/...</td>\n      <td>1</td>\n    </tr>\n    <tr>\n      <th>1</th>\n      <td>http://smart4talent.000webhostapp.com/</td>\n      <td>1</td>\n    </tr>\n    <tr>\n      <th>2</th>\n      <td>http://realmail0000.000webhostapp.com/</td>\n      <td>1</td>\n    </tr>\n    <tr>\n      <th>3</th>\n      <td>http://abieso112.000webhostapp.com/</td>\n      <td>1</td>\n    </tr>\n    <tr>\n      <th>4</th>\n      <td>http://g-mail-onlinesa-authenticate.000webhost...</td>\n      <td>1</td>\n    </tr>\n  </tbody>\n</table>\n</div>"
     },
     "metadata": {},
     "execution_count": 46
    }
   ],
   "source": [
    "df_phishing=pd.DataFrame(phishing_dataset.url)\n",
    "df_phishing['phishing']=1\n",
    "df_phishing.head()"
   ]
  },
  {
   "cell_type": "code",
   "execution_count": 52,
   "metadata": {},
   "outputs": [
    {
     "output_type": "execute_result",
     "data": {
      "text/plain": "            url  phishing\n0    google.com         0\n1   youtube.com         0\n2     tmall.com         0\n3     baidu.com         0\n4  facebook.com         0",
      "text/html": "<div>\n<style scoped>\n    .dataframe tbody tr th:only-of-type {\n        vertical-align: middle;\n    }\n\n    .dataframe tbody tr th {\n        vertical-align: top;\n    }\n\n    .dataframe thead th {\n        text-align: right;\n    }\n</style>\n<table border=\"1\" class=\"dataframe\">\n  <thead>\n    <tr style=\"text-align: right;\">\n      <th></th>\n      <th>url</th>\n      <th>phishing</th>\n    </tr>\n  </thead>\n  <tbody>\n    <tr>\n      <th>0</th>\n      <td>google.com</td>\n      <td>0</td>\n    </tr>\n    <tr>\n      <th>1</th>\n      <td>youtube.com</td>\n      <td>0</td>\n    </tr>\n    <tr>\n      <th>2</th>\n      <td>tmall.com</td>\n      <td>0</td>\n    </tr>\n    <tr>\n      <th>3</th>\n      <td>baidu.com</td>\n      <td>0</td>\n    </tr>\n    <tr>\n      <th>4</th>\n      <td>facebook.com</td>\n      <td>0</td>\n    </tr>\n  </tbody>\n</table>\n</div>"
     },
     "metadata": {},
     "execution_count": 52
    }
   ],
   "source": [
    "# df_alexa['url']=alexa_dataset.iloc[:,1]\n",
    "df_alexa=pd.DataFrame(alexa_dataset.url)\n",
    "df_alexa['phishing']=0\n",
    "df_alexa.head()\n",
    "# alexa_dataset.columns"
   ]
  },
  {
   "cell_type": "code",
   "execution_count": 63,
   "metadata": {},
   "outputs": [
    {
     "output_type": "execute_result",
     "data": {
      "text/plain": "                                     url  phishing\n523114               thecityvacation.com         0\n523115                     thekingdz.com         0\n523116                      topvision.se         0\n523117  vehicle-breakdown-recovery.co.uk         0\n523118                       zzang79.com         0",
      "text/html": "<div>\n<style scoped>\n    .dataframe tbody tr th:only-of-type {\n        vertical-align: middle;\n    }\n\n    .dataframe tbody tr th {\n        vertical-align: top;\n    }\n\n    .dataframe thead th {\n        text-align: right;\n    }\n</style>\n<table border=\"1\" class=\"dataframe\">\n  <thead>\n    <tr style=\"text-align: right;\">\n      <th></th>\n      <th>url</th>\n      <th>phishing</th>\n    </tr>\n  </thead>\n  <tbody>\n    <tr>\n      <th>523114</th>\n      <td>thecityvacation.com</td>\n      <td>0</td>\n    </tr>\n    <tr>\n      <th>523115</th>\n      <td>thekingdz.com</td>\n      <td>0</td>\n    </tr>\n    <tr>\n      <th>523116</th>\n      <td>topvision.se</td>\n      <td>0</td>\n    </tr>\n    <tr>\n      <th>523117</th>\n      <td>vehicle-breakdown-recovery.co.uk</td>\n      <td>0</td>\n    </tr>\n    <tr>\n      <th>523118</th>\n      <td>zzang79.com</td>\n      <td>0</td>\n    </tr>\n  </tbody>\n</table>\n</div>"
     },
     "metadata": {},
     "execution_count": 63
    }
   ],
   "source": [
    "df= df_phishing.append(df_alexa)\n",
    "df.tail()\n",
    "# df.to_csv('dataset.csv',header=True)"
   ]
  },
  {
   "cell_type": "code",
   "execution_count": null,
   "metadata": {},
   "outputs": [],
   "source": []
  }
 ]
}